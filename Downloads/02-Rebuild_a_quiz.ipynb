{
 "cells": [
  {
   "cell_type": "markdown",
   "metadata": {},
   "source": [
    "# Build a quiz - Part 2"
   ]
  },
  {
   "cell_type": "markdown",
   "metadata": {},
   "source": [
    "Below is the code we wrote yesterday, that asks three questions to the user and allows up to 3 wrong answers :"
   ]
  },
  {
   "cell_type": "code",
   "execution_count": null,
   "metadata": {},
   "outputs": [
    {
     "name": "stdout",
     "output_type": "stream",
     "text": [
      "here is our beautiful quiz!\n"
     ]
    }
   ],
   "source": [
    "nb_of_chances = 3\n",
    "\n",
    "print(\"here is our beautiful quiz!\")\n",
    "\n",
    "if nb_of_chances > 0:\n",
    "    question1= input(\"How many times France won the Soccer World Cup?\")\n",
    "    while question1 != \"2\":\n",
    "        nb_of_chances -= 1\n",
    "        print(\"Dang, wrong answer 😓... You still have {} chances left\".format(nb_of_chances))\n",
    "        if nb_of_chances == 0:\n",
    "            print(\"Oh no! It's game over 💥\")\n",
    "            break\n",
    "        question1 = input(\"How many times France won the Soccer World Cup?\")\n",
    "\n",
    "if nb_of_chances > 0:\n",
    "    question2 = input(\"When was Apple founded?\")\n",
    "    while question2 != \"1976\":\n",
    "        nb_of_chances -=1\n",
    "        print(\"Dang, wrong answer 😓... You still have {} chances left\".format(nb_of_chances))\n",
    "        if nb_of_chances == 0:\n",
    "            print(\"Oh no! It's game over 💥\")\n",
    "            break\n",
    "        question2 = input(\"When was Apple founded?\")\n",
    "\n",
    "\n",
    "if nb_of_chances > 0:\n",
    "    question3 = input(\"Who founded SpaceX?\")\n",
    "    question3 = question3.lower()\n",
    "    while question3 != \"elon musk\":\n",
    "        nb_of_chances -=1\n",
    "        print(\"Dang, wrong answer 😓... You still have {} chances left\".format(nb_of_chances))\n",
    "        if nb_of_chances == 0:\n",
    "            print(\"Oh no! It's game over 💥\")\n",
    "            break\n",
    "        question3 = input(\"Who founded SpaceX?\")\n",
    "        question3 = question3.lower()\n",
    "\n",
    "if nb_of_chances > 0:\n",
    "    print(\"🥳 Congratulations, you've won the quiz 🥳\")\n"
   ]
  },
  {
   "attachments": {},
   "cell_type": "markdown",
   "metadata": {},
   "source": [
    "Let's refactor our quiz now that we know how to be dry.\n",
    "\n",
    "## SPECIFICATIONS (SPECS)\n",
    "\n",
    "* Your code should be DRY \n",
    "* You should use functions "
   ]
  },
  {
   "cell_type": "code",
   "execution_count": 20,
   "metadata": {},
   "outputs": [],
   "source": [
    "### version corrigeee a sec\n",
    "\n",
    "\n",
    "\n",
    "\n",
    "def nb_of_chances_restantes(question,bonne_reponse,nb_of_chances):\n",
    "    while nb_of_chances>0:\n",
    "        reponse_joueur = input(question)\n",
    "        if reponse_joueur == bonne_reponse:\n",
    "            return nb_of_chances\n",
    "        else:\n",
    "            nb_of_chances -=1\n",
    "            print(f\"Dang, wrong answer 😓... You still have {nb_of_chances} chances left\")\n",
    "\n",
    "            if nb_of_chances == 0:\n",
    "\n",
    "                print(\"Oh no! It's game over 💥\")\n",
    "                return 0\n",
    "\n",
    "    return 0\n",
    "\n",
    "            \n",
    "\n",
    "         \n",
    "\n",
    "def run_quizz():\n",
    "    nb_of_chances=3\n",
    "    print('bienvenue dans le quizz')\n",
    "\n",
    "    nb_of_chances=nb_of_chances_restantes('howmany times France won the world Cup','2',nb_of_chances)\n",
    "    if nb_of_chances==0:\n",
    "        return\n",
    "\n",
    "    nb_of_chances=nb_of_chances_restantes('combien de fois le psg a til ete champion de france','13',nb_of_chances)\n",
    "    if nb_of_chances==0:\n",
    "        return\n",
    "\n",
    "    nb_of_chances=nb_of_chances_restantes('quelle estla couleur du cheval blanc d henri IV','blanc',nb_of_chances)\n",
    "    if nb_of_chances==0:\n",
    "        return\n",
    "\n",
    "    \n",
    "    print('bravoo tu as gagné le quizz')\n",
    "\n",
    "\n",
    "\n",
    "\n",
    "\n",
    "\n",
    "\n",
    "\n",
    "\n",
    "\n"
   ]
  },
  {
   "cell_type": "code",
   "execution_count": 21,
   "metadata": {},
   "outputs": [
    {
     "name": "stdout",
     "output_type": "stream",
     "text": [
      "bienvenue dans le quizz\n",
      "Dang, wrong answer 😓... You still have 2 chances left\n",
      "Dang, wrong answer 😓... You still have 1 chances left\n",
      "Dang, wrong answer 😓... You still have 0 chances left\n",
      "Oh no! It's game over 💥\n"
     ]
    }
   ],
   "source": [
    "run_quizz()"
   ]
  }
 ],
 "metadata": {
  "kernelspec": {
   "display_name": "base",
   "language": "python",
   "name": "python3"
  },
  "language_info": {
   "codemirror_mode": {
    "name": "ipython",
    "version": 3
   },
   "file_extension": ".py",
   "mimetype": "text/x-python",
   "name": "python",
   "nbconvert_exporter": "python",
   "pygments_lexer": "ipython3",
   "version": "3.13.5"
  },
  "orig_nbformat": 2
 },
 "nbformat": 4,
 "nbformat_minor": 2
}
